{
 "cells": [
  {
   "cell_type": "code",
   "execution_count": 128,
   "metadata": {},
   "outputs": [],
   "source": [
    "import h5py\n",
    "import pandas as pd\n",
    "import numpy as np\n",
    "import matplotlib.pyplot as plt\n",
    "import time"
   ]
  },
  {
   "cell_type": "code",
   "execution_count": 133,
   "metadata": {},
   "outputs": [],
   "source": [
    "## load datasets\n",
    "### WARNING: check the path of files\n",
    "with h5py.File('./Input/train/images_training.h5','r') as H:\n",
    "    data_train = np.copy(H['datatrain'])\n",
    "with h5py.File('./Input/train/labels_training.h5','r') as H:\n",
    "    label_train = np.copy(H['labeltrain'])\n",
    "with h5py.File('./Input/test/images_testing.h5','r') as H:\n",
    "    data_test = np.copy(H['datatest'])\n",
    "with h5py.File('./Input/test/labels_testing_2000.h5','r') as H:\n",
    "    label_test = np.copy(H['labeltest'])"
   ]
  },
  {
   "cell_type": "code",
   "execution_count": 112,
   "metadata": {},
   "outputs": [],
   "source": [
    "## Split the data_train to get validations\n",
    "def train_test_split(X,train_size=0.8,shuffle=True): # Splitted train dataset is size (24000,784) and test dataset is (6000,784)\n",
    "    border = int(train_size*len(X))\n",
    "    X_train, X_test = X[:border], X[border:]\n",
    "    return X_train, X_test"
   ]
  },
  {
   "cell_type": "code",
   "execution_count": 113,
   "metadata": {},
   "outputs": [],
   "source": [
    "## Split data_train and label_train as well, in order to test the algorithm\n",
    "split_train, split_test = train_test_split(data_train)\n",
    "split_label_train, split_label_test = train_test_split(label_train)"
   ]
  },
  {
   "cell_type": "code",
   "execution_count": 114,
   "metadata": {},
   "outputs": [],
   "source": [
    "## Data preprocessing by PCA for train dataset\n",
    "def PCAtrain(conponent, data):\n",
    "    mean = np.mean(data, axis = 0)\n",
    "    new_data = data - mean\n",
    "    covMatrix = np.mat(np.cov(new_data, rowvar = 0)) # covariance matrix\n",
    "    eig_vals, eig_vecs = np.linalg.eig(covMatrix)\n",
    "    \n",
    "    index = np.argsort(-eig_vals) # Sort the eigenvalues from large to small\n",
    "    eig_vecs = eig_vecs[:,index][:,:conponent] # Specify the dimension of dimensionality reduction\n",
    "    eig_vals = -np.sort(-eig_vals)[:conponent] # Sort the eigenvalues from large to small\n",
    "    pca_data = np.dot(new_data, eig_vecs) # Low-dimensional feature space data\n",
    "\n",
    "    recon = pca_data.dot(eig_vecs.T) + mean # Restructure the data\n",
    "\n",
    "    return pca_data, eig_vecs, recon"
   ]
  },
  {
   "cell_type": "code",
   "execution_count": 115,
   "metadata": {},
   "outputs": [],
   "source": [
    "## Data preprocessing by PCA for test dataset\n",
    "def PCAtest(data):\n",
    "    mean = np.mean(data, axis = 0)\n",
    "    new_data = data - mean\n",
    "    pca_data = np.dot(new_data, eig_vecs_train) ###Using eigenvectors from PCAtrain\n",
    "    \n",
    "    return pca_data"
   ]
  },
  {
   "cell_type": "code",
   "execution_count": 116,
   "metadata": {},
   "outputs": [],
   "source": [
    "## Get the datasets processed by PCA\n",
    "pca_data_train, eig_vecs_train, recon = PCAtrain(40, split_train) # The component is 40\n",
    "pca_data_test = PCAtest(split_test) "
   ]
  },
  {
   "cell_type": "code",
   "execution_count": 117,
   "metadata": {},
   "outputs": [],
   "source": [
    "## Get the closest label\n",
    "def getLabels(sortedList, label, k): \n",
    "    record_label = []\n",
    "\n",
    "    for m in range(k):\n",
    "        labels = label[sortedList[m]] # Get k closest items\n",
    "        record_label.append(labels) # Put these items into this list\n",
    "  \n",
    "    maxLabel = max(record_label, key=record_label.count) # Get the most appearing elements in the list\n",
    "\n",
    "    return maxLabel"
   ]
  },
  {
   "cell_type": "code",
   "execution_count": 121,
   "metadata": {},
   "outputs": [],
   "source": [
    "## Classifier KNN\n",
    "def KNN(train, test, label, k):\n",
    "    result_list = []\n",
    "    \n",
    "    for j in range(test.shape[0]):\n",
    "        current = test[j]\n",
    "        dist_nearest = []\n",
    "        for i in range(train.shape[0]):\n",
    "            dist = np.linalg.norm(current - train[i]) # Calculate the distance\n",
    "            dist_nearest.append(dist) # Put these dists into this list\n",
    "            \n",
    "        sortedDist = np.argsort(dist_nearest) # Sort the distances by size (from large to small)\n",
    "        \n",
    "        maxLabel = getLabels(sortedDist, label, k)\n",
    "    \n",
    "        result_list.append(maxLabel) # Print out\n",
    "    \n",
    "    return result_list"
   ]
  },
  {
   "cell_type": "code",
   "execution_count": 122,
   "metadata": {},
   "outputs": [],
   "source": [
    "## Get predictions from KNN\n",
    "knn = KNN(pca_data_train, pca_data_test[0:5000], split_label_train, 12)"
   ]
  },
  {
   "cell_type": "code",
   "execution_count": 123,
   "metadata": {},
   "outputs": [],
   "source": [
    "## Reput the output file for recheck (if need)\n",
    "#with h5py.File('./Assignment1/Output/predicted_labels.h5','r') as H:\n",
    "    #KNN = np.copy(H['Output'])"
   ]
  },
  {
   "cell_type": "code",
   "execution_count": 124,
   "metadata": {},
   "outputs": [],
   "source": [
    "## Calculate the accuacy of KNN\n",
    "def accurancyKNN(kn, label):\n",
    "    count = 0\n",
    "    \n",
    "    for i in range(label.shape[0]):\n",
    "        if kn[i] == label[i]: # if label in kn is same as label list, count +1\n",
    "            count += 1   \n",
    "    \n",
    "    accurancy = count/(label.shape[0]) # Calculate the accurancy\n",
    "    return accurancy"
   ]
  },
  {
   "cell_type": "code",
   "execution_count": null,
   "metadata": {
    "scrolled": true
   },
   "outputs": [],
   "source": [
    "## Get the results by percentage\n",
    "accu = accurancyKNN(knn, split_label_test[0:5000])\n",
    "print(\"percent: {:.4%}\".format(accu))"
   ]
  },
  {
   "cell_type": "code",
   "execution_count": null,
   "metadata": {},
   "outputs": [],
   "source": [
    "###### WARNING #######\n",
    "###T his part of function is used to find hyperparameters\n",
    "### This might need a very long time to print out the results! (Usually few hours!!)\n",
    "### Run with caution!!!\n",
    "\n",
    "def findK(train, test, label_train, label_test):\n",
    "    k_list = []\n",
    "    acc_result = []\n",
    "    \n",
    "    for k in range(1,25):\n",
    "        result_list = KNN(train, test, label_train, k)\n",
    "        k_list.append(k)\n",
    "        acc_list = accurancy(result_list, label_test)\n",
    "        acc_result.append(acc_list)\n",
    "    \n",
    "    return k_list, acc_result\n",
    "\n",
    "k_list, acc_result = findK(pca_data_train, pca_data_test[0:5000], split_label_train, split_label_test[0:5000])\n",
    "print(k_list)\n",
    "print(acc_result)"
   ]
  },
  {
   "cell_type": "code",
   "execution_count": null,
   "metadata": {},
   "outputs": [],
   "source": [
    "## Time cost for finding hyperparameter K\n",
    "start = time.time()\n",
    "result = findK(pca_data_train, pca_data_test[0:5000], split_label_train, split_label_test[0:5000])\n",
    "print(\"Time cost: \", time.time()-start)"
   ]
  },
  {
   "cell_type": "code",
   "execution_count": 219,
   "metadata": {},
   "outputs": [
    {
     "name": "stdout",
     "output_type": "stream",
     "text": [
      "[1, 2, 3, 4, 5, 6, 7, 8, 9, 10, 11, 12, 13, 14, 15, 16, 17, 18, 19, 20, 21, 22, 23, 24]\n",
      "[0.8192, 0.8192, 0.8334, 0.8356, 0.8388, 0.8414, 0.8402, 0.8434, 0.8414, 0.8422, 0.842, 0.8438, 0.842, 0.8416, 0.8392, 0.839, 0.838, 0.839, 0.838, 0.835, 0.8354, 0.8364, 0.8376, 0.8378]\n"
     ]
    }
   ],
   "source": [
    "## Result for finding hyperparameter K \n",
    "k_list = []\n",
    "acc_result = []\n",
    "for k in range(1,25):\n",
    "    result_list = KNN(pca_data_train, pca_data_test[0:5000], split_label_train, k)\n",
    "    k_list.append(k)\n",
    "    acc_list = accurancy(result_list, split_label_test[0:5000])\n",
    "    acc_result.append(acc_list)\n",
    "\n",
    "print(k_list)\n",
    "print(acc_result)"
   ]
  },
  {
   "cell_type": "code",
   "execution_count": 239,
   "metadata": {},
   "outputs": [
    {
     "data": {
      "image/png": "[encoded data removed]",
      "text/plain": [
       "<Figure size 432x288 with 1 Axes>"
      ]
     },
     "metadata": {
      "needs_background": "light"
     },
     "output_type": "display_data"
    }
   ],
   "source": [
    "## Draw a plot to show off the relations between accuracy and hyperparameter K\n",
    "plt.plot(k_list, acc_result, 'r')\n",
    "plt.xlabel(\"number of k\")\n",
    "plt.ylabel(\"accurancy\")\n",
    "plt.show()"
   ]
  },
  {
   "cell_type": "code",
   "execution_count": 69,
   "metadata": {},
   "outputs": [],
   "source": [
    "## Naive Bayes Algorithm\n",
    "## Using log-likelihood to calculate priori prob and posterior prob\n",
    "def NavieBayes(train, label):\n",
    "    total_count = train.shape[0]\n",
    "    \n",
    "    separated = [] # Combine same type items into one list\n",
    "    prob_list = [] # Calculate prior probability\n",
    "    sum_list = [] # Sum of extract attribute features by category and counts the times\n",
    "    predict_list = [] # List of predictions\n",
    "    \n",
    "    for classes in np.unique(label):\n",
    "        same_list = []\n",
    "        for sample, label_sample in zip(train, label): # Combine the classes with same types\n",
    "            if label_sample == classes:\n",
    "                same_list.append(sample)\n",
    "        \n",
    "        separated.append(same_list) # Add to the list\n",
    "        \n",
    "    for i in separated:\n",
    "        prob = np.log(len(i) / total_count) # Calculate priori probability\n",
    "        prob_list.append(prob)\n",
    "        \n",
    "    for count in separated:\n",
    "        sum_count = np.array(count).sum(axis=0) # Counts of how many times the feature appears\n",
    "        sum_list.append(sum_count)\n",
    "        \n",
    "        counts = np.array(sum_list) + 1 # In order to avoid 0 situation (LaPlace)\n",
    "    \n",
    "    for j in train:\n",
    "        feature_prob = np.log(counts / counts.sum(axis=1)[np.newaxis].T) # Calculate posterior probability\n",
    "        \n",
    "        predict_prob = (feature_prob * j).sum(axis=1) + prob # Prediction probability\n",
    "        predict_list.append(predict_prob) # Save into list\n",
    "        \n",
    "    final_predict = np.argmax(predict_list, axis=1) # Get the largest(closest) prob to predict the label\n",
    "    \n",
    "    return final_predict "
   ]
  },
  {
   "cell_type": "code",
   "execution_count": 39,
   "metadata": {
    "scrolled": true
   },
   "outputs": [],
   "source": [
    "## Get Naive Bayes result predictions\n",
    "nv = NavieBayes(split_test, split_label_test)"
   ]
  },
  {
   "cell_type": "code",
   "execution_count": 40,
   "metadata": {},
   "outputs": [],
   "source": [
    "## Calculate the accuracy of NB algorithm\n",
    "def accurancyNB(kn, label):\n",
    "    count = 0\n",
    "    for i in range(label.shape[0]):\n",
    "        if kn[i] == label[i]:\n",
    "            count += 1\n",
    "    \n",
    "    accurancy = count/(label.shape[0])\n",
    "    \n",
    "    return accurancy"
   ]
  },
  {
   "cell_type": "code",
   "execution_count": null,
   "metadata": {
    "scrolled": true
   },
   "outputs": [],
   "source": [
    "## Final result in percentage format\n",
    "accu = accurancyNB(nv, split_label_test)\n",
    "print(\"percent: {:.4%}\".format(accu))"
   ]
  },
  {
   "cell_type": "code",
   "execution_count": 105,
   "metadata": {},
   "outputs": [],
   "source": [
    "## Output the KNN result list (5000,)\n",
    "## Check the file path as well\n",
    "with h5py.File('./Output/predicted_labels.h5','w') as H:\n",
    "    H.create_dataset('Output',data=knn)"
   ]
  }
 ],
 "metadata": {
  "kernelspec": {
   "display_name": "Python 3",
   "language": "python",
   "name": "python3"
  },
  "language_info": {
   "codemirror_mode": {
    "name": "ipython",
    "version": 3
   },
   "file_extension": ".py",
   "mimetype": "text/x-python",
   "name": "python",
   "nbconvert_exporter": "python",
   "pygments_lexer": "ipython3",
   "version": "3.7.6"
  }
 },
 "nbformat": 4,
 "nbformat_minor": 4
}
